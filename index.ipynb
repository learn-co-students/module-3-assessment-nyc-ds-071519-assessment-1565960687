{
 "cells": [
  {
   "cell_type": "markdown",
   "metadata": {},
   "source": [
    "# Module 3 Assessment"
   ]
  },
  {
   "cell_type": "markdown",
   "metadata": {},
   "source": [
    "Welcome to your Mod 3 Assessment. You will be tested for your understanding of concepts and ability to solve problems that have been covered in class and in the curriculum.\n",
    "\n",
    "Use any libraries you want to solve the problems in the assessment.\n",
    "\n",
    "You will have up to **two hours** to complete this assessment.\n",
    "\n",
    "The sections of the assessment are:\n",
    "- Combinatorics, Probability and Discrete Distributions\n",
    "- Statistical Distributions\n",
    "- Statistical Tests\n",
    "- Bayesian Statistics\n",
    "\n"
   ]
  },
  {
   "cell_type": "code",
   "execution_count": 14,
   "metadata": {},
   "outputs": [],
   "source": [
    "# import the necessary libraries\n",
    "import numpy as np\n",
    "from scipy import stats\n",
    "import matplotlib.pyplot as plt\n",
    "import pickle\n",
    "import math"
   ]
  },
  {
   "cell_type": "markdown",
   "metadata": {},
   "source": [
    "## Part 1: Combinatorics, Probability & Discrete Distributions\n",
    "\n",
    "### a. Set Theory\n",
    "\n",
    "Given the following probabilities:\n",
    "\n",
    "$P(A) = 0.7$\n",
    "\n",
    "$P(B) = 0.5$\n",
    "\n",
    "$P(B|A) = 0.4$\n",
    "\n",
    "Find and assign to the variables in the next cell:\n",
    "\n",
    "1. $P(A and B)$\n",
    "\n",
    "2. $P(A or B)$\n",
    "\n",
    "3. $P(A|B)$\n",
    "\n",
    "4. $P(B|A^{c})$\n",
    "\n",
    "Hint: draw a diagram!\n"
   ]
  },
  {
   "cell_type": "code",
   "execution_count": 181,
   "metadata": {},
   "outputs": [
    {
     "name": "stdout",
     "output_type": "stream",
     "text": [
      "Answer 1 =  0.28\n",
      "Answer 2 =  0.92\n",
      "Answer 3 =  0.56\n",
      "Answer 4 =  0.73\n"
     ]
    }
   ],
   "source": [
    "P_A = .7\n",
    "P_B = .5\n",
    "P_B_given_A = .4\n",
    "\n",
    "#P(AandB) = P_B_given_A * P_A \n",
    "ans1 = P_B_given_A * P_A\n",
    "ans2 = P_A+P_B-ans1\n",
    "ans3 = ans1/P_B\n",
    "ans4 = (P_B-ans1)/(1-P_A)\n",
    "\n",
    "answers = [ans1,ans2,ans3,ans4]\n",
    "for i in range(len(answers)):\n",
    "    print('Answer '+str(i+1)+' = ', round(answers[i],2))"
   ]
  },
  {
   "cell_type": "markdown",
   "metadata": {},
   "source": [
    "### b. Card Combinatorics\n",
    "\n",
    "You have a standard deck of 52 cards. We define three subsets:\n",
    "\n",
    "1. What is the probability of drawing a king or a queen?\n",
    "2. How many possible 5-card combinations can be formed with this deck of 52 cards?\n",
    "3. Given that you've drawn 5 cards without replacement, what is the probability of getting **2 red cards** and **3 black cards**?\n"
   ]
  },
  {
   "cell_type": "code",
   "execution_count": 23,
   "metadata": {},
   "outputs": [
    {
     "name": "stdout",
     "output_type": "stream",
     "text": [
      "Answer 1 =  0.15\n",
      "Answer 2 =  311875200.0\n",
      "Answer 3 =  0.33\n"
     ]
    }
   ],
   "source": [
    "#event space: 52 cards\n",
    "#A = drawing a king or a queen\n",
    "ans1 = 8/52\n",
    "\n",
    "#possible 5 cards: permutation of a subset (52,5)\n",
    "# ans2 = math.factorial(52)/(math.factorial(5)*math.factorial(52-5))\n",
    "ans2 = math.factorial(52)/math.factorial(52-5)\n",
    "\n",
    "#events are independent hence P(inter) = products each prob & have to consider the combinations of getting 2R and 3B\n",
    "\n",
    "ans3 = ((26*25*26*25*24)/(52*51*50*49*48))*(math.factorial(5)/(math.factorial(2)*math.factorial(3)))\n",
    "\n",
    "answers = [ans1,ans2,ans3]\n",
    "for i in range(len(answers)):\n",
    "    print('Answer '+str(i+1)+' = ', round(answers[i],2))"
   ]
  },
  {
   "cell_type": "markdown",
   "metadata": {},
   "source": [
    "### c. Discrete Probability Distributions\n",
    "\n",
    "In a game with the same deck of 52 cards, you draw a card $n$ times with replacement. You win a point by drawing a face card (king, queen or jack). \n",
    "\n",
    "1. Let $k$ be the number of points won in the game. Write a function that takes in the number of draws, the probability of winning a point and $k$ to return the corresponding probability."
   ]
  },
  {
   "cell_type": "code",
   "execution_count": 182,
   "metadata": {},
   "outputs": [],
   "source": [
    "def probability_of_scoring_k(n,k,p):\n",
    "    \"\"\"\n",
    "    n = number of draws\n",
    "    p = probability of winning a point (winning a point with face cards (12 possibilities))\n",
    "    k = number of points scored\n",
    "    \n",
    "    Use np.factorial()\n",
    "    \n",
    "    \"\"\"\n",
    "    return  (p)**k* (1-p)**(n-k)\n",
    "    \n",
    "    "
   ]
  },
  {
   "cell_type": "markdown",
   "metadata": {},
   "source": [
    "2. Using your function, what is the probability of winning 8 points out of 22 draws?\n"
   ]
  },
  {
   "cell_type": "code",
   "execution_count": 50,
   "metadata": {},
   "outputs": [
    {
     "data": {
      "text/plain": [
       "2.0427550226858593e-07"
      ]
     },
     "execution_count": 50,
     "metadata": {},
     "output_type": "execute_result"
    }
   ],
   "source": [
    "(12/52)**8*(1-12/52)**14"
   ]
  },
  {
   "cell_type": "code",
   "execution_count": 183,
   "metadata": {},
   "outputs": [
    {
     "data": {
      "text/plain": [
       "2.0427550226858593e-07"
      ]
     },
     "execution_count": 183,
     "metadata": {},
     "output_type": "execute_result"
    }
   ],
   "source": [
    "ans2 = probability_of_scoring_k(n=22,k=8,p=12/52)\n",
    "ans2"
   ]
  },
  {
   "cell_type": "markdown",
   "metadata": {},
   "source": [
    "3. Plot the probability mass function of $k$ in 22 draws.\n"
   ]
  },
  {
   "cell_type": "code",
   "execution_count": 104,
   "metadata": {},
   "outputs": [],
   "source": [
    "points  = list(range(23))\n",
    "prob_winning = []\n",
    "\n",
    "for point in points:\n",
    "#     point = np.random.randint(0,draw+1)\n",
    "    prob = probability_of_scoring_k(22,point,12/52)\n",
    "    prob_winning.append(prob)\n"
   ]
  },
  {
   "cell_type": "code",
   "execution_count": 185,
   "metadata": {},
   "outputs": [
    {
     "data": {
      "image/png": "[encoded data removed]",
      "text/plain": [
       "<Figure size 432x288 with 1 Axes>"
      ]
     },
     "metadata": {
      "needs_background": "light"
     },
     "output_type": "display_data"
    }
   ],
   "source": [
    "plt.plot(points,prob_winning)\n",
    "plt.title(\"Probability of winning k points out of 22 draws\")\n",
    "plt.xlabel('Points')\n",
    "plt.xlabel('Probability')\n",
    "plt.show()"
   ]
  },
  {
   "cell_type": "markdown",
   "metadata": {},
   "source": [
    "4. Plot the cumulative density function of $k$ in 22 draws."
   ]
  },
  {
   "cell_type": "code",
   "execution_count": 180,
   "metadata": {
    "collapsed": true
   },
   "outputs": [
    {
     "data": {
      "text/plain": [
       "[0.003113481211226729,\n",
       " 0.004047525574594747,\n",
       " 0.004327738883605153,\n",
       " 0.0044118028763082745,\n",
       " 0.004437022074119211,\n",
       " 0.0044445878334624924,\n",
       " 0.004446857561265477,\n",
       " 0.004447538479606372,\n",
       " 0.004447742755108641,\n",
       " 0.004447804037759321,\n",
       " 0.004447822422554526,\n",
       " 0.004447827937993087,\n",
       " 0.0044478295926246554,\n",
       " 0.004447830089014126,\n",
       " 0.004447830237930967,\n",
       " 0.00444783028260602,\n",
       " 0.004447830296008536,\n",
       " 0.004447830300029291,\n",
       " 0.004447830301235517,\n",
       " 0.004447830301597385,\n",
       " 0.004447830301705946,\n",
       " 0.004447830301738513,\n",
       " 0.004447830301748284]"
      ]
     },
     "execution_count": 180,
     "metadata": {},
     "output_type": "execute_result"
    }
   ],
   "source": [
    "prob_cumulative = [prob_winning[0]]\n",
    "# prob_cumulative[0]= prob_winning[0]\n",
    "for i in range(1,23):\n",
    "    new=prob_cumulative[i-1]+prob_winning[i]\n",
    "    prob_cumulative.append(new)\n",
    "#     print(prob_cumulative[i-1],prob_winning[i],prob_cumulative[i])\n",
    "    \n",
    "prob_cumulative"
   ]
  },
  {
   "cell_type": "code",
   "execution_count": 192,
   "metadata": {},
   "outputs": [
    {
     "data": {
      "image/png": "[encoded data removed]",
      "text/plain": [
       "<Figure size 432x288 with 1 Axes>"
      ]
     },
     "metadata": {
      "needs_background": "light"
     },
     "output_type": "display_data"
    }
   ],
   "source": [
    "plt.bar(points,prob_cumulative)\n",
    "plt.title(\"Cumulative density function of  winning in 22 draws\")\n",
    "plt.xlabel('Points')\n",
    "plt.xlabel('Cumulative Probability')\n",
    "plt.show()"
   ]
  },
  {
   "cell_type": "markdown",
   "metadata": {},
   "source": [
    "## Part 2: Statistical Distributions"
   ]
  },
  {
   "cell_type": "markdown",
   "metadata": {},
   "source": [
    "### a. Descriptive Statistics"
   ]
  },
  {
   "cell_type": "markdown",
   "metadata": {},
   "source": [
    "1. `ratings` is a list of ratings for a TexMex restaurant. Compute the descriptive statistics of `ratings`."
   ]
  },
  {
   "cell_type": "code",
   "execution_count": 55,
   "metadata": {},
   "outputs": [
    {
     "data": {
      "text/plain": [
       "array([ 1. ,  2. ,  7. ,  7.5,  8. ,  8. ,  8. ,  8. ,  8. ,  8. ,  8. ,\n",
       "        8. ,  9. ,  9. ,  9. , 10. , 10. , 10. ])"
      ]
     },
     "execution_count": 55,
     "metadata": {},
     "output_type": "execute_result"
    }
   ],
   "source": [
    "ratings = [1, 2, 7, 7.5, 8, 8, 8, 8, 8, 8, 8, 8, 9, 9, 9, 10, 10, 10]\n",
    "#I transformed my data into numpy array - better for stats calculation\n",
    "transformed_ratings = np.array(ratings)\n",
    "transformed_ratings"
   ]
  },
  {
   "cell_type": "code",
   "execution_count": 196,
   "metadata": {},
   "outputs": [
    {
     "name": "stdout",
     "output_type": "stream",
     "text": [
      "Mean:  7.69 \n",
      "Median:  8.0 \n",
      "Mode:  8.0 \n",
      "Standard Deviation:  2.35 \n",
      "Range:  18 \n",
      "Interquartile Range:  [10.  9.  8.  1.]\n"
     ]
    }
   ],
   "source": [
    "#computing descriptive stats using numpy and scipy built-in methods\n",
    "mean = np.mean(transformed_ratings)\n",
    "median = np.median(transformed_ratings)\n",
    "mode = stats.mode(transformed_ratings)[0][0]\n",
    "standard_deviation = np.std(transformed_ratings)\n",
    "number_range = len(transformed_ratings)\n",
    "interquartile_range = np.percentile(transformed_ratings, [100, 75 ,25,0])\n",
    "# stats.iqr(transformed_ratings,axis=0)\n",
    "\n",
    "print(\n",
    "\"Mean: \", round(mean,2), \"\\n\" \n",
    "\"Median: \", median, \"\\n\"\n",
    "\"Mode: \", mode, \"\\n\"\n",
    "\"Standard Deviation: \", round(standard_deviation,2), \"\\n\"\n",
    "\"Range: \", number_range, \"\\n\"\n",
    "\"Interquartile Range: \", interquartile_range)"
   ]
  },
  {
   "cell_type": "markdown",
   "metadata": {},
   "source": [
    "2. What measure of centrality would you use to most fairly describe the ratings and why?"
   ]
  },
  {
   "cell_type": "code",
   "execution_count": null,
   "metadata": {},
   "outputs": [],
   "source": [
    "# Your written answer here\n",
    "\"\"\"\n",
    "Rating assesses the performance of the restaurant as it's coming from different cusrtomers.\n",
    "In order to describe the ratings of the restaurant, I would use the mode as it shows the most ratings:\n",
    "The most repetitive choice by the customers.\n",
    "By using the mode, I show how people like the restaurant (most of them picked 8) and give an idea of the likelihood of having a \n",
    "good service there.\n",
    "\"\"\""
   ]
  },
  {
   "cell_type": "markdown",
   "metadata": {},
   "source": [
    "### b. Continuous Distributions\n",
    "\n",
    "Say we have data on all $10,000$ checks for this TexMex restaurant and they happen to be normally distributed with $\\mu = 20$ and $\\sigma = 2$. We can visualize the data as follows: "
   ]
  },
  {
   "cell_type": "code",
   "execution_count": 82,
   "metadata": {},
   "outputs": [
    {
     "data": {
      "image/png": "[encoded data removed]",
      "text/plain": [
       "<Figure size 432x288 with 1 Axes>"
      ]
     },
     "metadata": {
      "needs_background": "light"
     },
     "output_type": "display_data"
    }
   ],
   "source": [
    "data = pickle.load(open(\"data/data10000.pkl\", \"rb\"))\n",
    "plt.title('Distribution of Check Totals')\n",
    "plt.xlabel('Amount')\n",
    "plt.ylabel('Frequency')\n",
    "plt.hist(data, bins=80)\n",
    "plt.show()"
   ]
  },
  {
   "cell_type": "markdown",
   "metadata": {},
   "source": [
    "For the following questions, you may use a [z-table](https://www.math.arizona.edu/~rsims/ma464/standardnormaltable.pdf).\n",
    "\n",
    "1. Write a function to compute z-scores of single checks.\n"
   ]
  },
  {
   "cell_type": "code",
   "execution_count": 133,
   "metadata": {},
   "outputs": [],
   "source": [
    "x_bar = 20\n",
    "sigma = 2\n",
    "n=10000\n",
    "def z_score(check_amt):\n",
    "    \n",
    "    \"\"\"\n",
    "    check_amt = the amount for which we want to compute the z-score\n",
    "    \n",
    "    \"\"\"\n",
    "    a = (check_amt-x_bar)/sigma\n",
    "    return a"
   ]
  },
  {
   "cell_type": "markdown",
   "metadata": {},
   "source": [
    "2. Using $\\alpha = 0.05$, is my 23 dollar check significantly **greater** than the mean? Assign boolean `True` for yes, `False` for no to `ans2`.\n",
    "3. What if my check comes up to 24 dollars?"
   ]
  },
  {
   "cell_type": "code",
   "execution_count": 128,
   "metadata": {},
   "outputs": [],
   "source": [
    "# Answer 2\n",
    "# z_score_23 = z_score(23)\n",
    "# z_score_23\n",
    "\n",
    "if stats.norm.sf(abs(z_score(23)))<0.05:\n",
    "    #reject Ho\n",
    "    ans2 = True\n",
    "else:\n",
    "    ans2 = False"
   ]
  },
  {
   "cell_type": "code",
   "execution_count": 129,
   "metadata": {},
   "outputs": [],
   "source": [
    "# Answer 3\n",
    "\n",
    "if stats.norm.sf(abs(z_score(24)))<0.05:\n",
    "    #reject Ho\n",
    "    ans3 = True\n",
    "else:\n",
    "    ans3 = False"
   ]
  },
  {
   "cell_type": "code",
   "execution_count": 130,
   "metadata": {},
   "outputs": [
    {
     "name": "stdout",
     "output_type": "stream",
     "text": [
      " ans2 =  False \n",
      " ans3 =  True\n"
     ]
    }
   ],
   "source": [
    "print(' ans2 = ', ans2, \"\\n\", 'ans3 = ', ans3)"
   ]
  },
  {
   "cell_type": "markdown",
   "metadata": {},
   "source": [
    "4. Define **confidence interval** and determine the 95% confidence interval for this population."
   ]
  },
  {
   "cell_type": "code",
   "execution_count": null,
   "metadata": {},
   "outputs": [],
   "source": [
    "\"\"\"Confidence interval is a range of values that, given a certain probability, \n",
    "I can be statistically certain my population mean is within that range \"\"\""
   ]
  },
  {
   "cell_type": "code",
   "execution_count": 134,
   "metadata": {},
   "outputs": [
    {
     "data": {
      "text/plain": [
       "[19.9608, 20.0392]"
      ]
     },
     "execution_count": 134,
     "metadata": {},
     "output_type": "execute_result"
    }
   ],
   "source": [
    "# Your written answer here\n",
    "# I will calculate the 2 numbers of the confidence range\n",
    "confidence_low = x_bar - 1.96  * (sigma/math.sqrt(n))\n",
    "confidence_high = x_bar + 1.96  * (sigma/math.sqrt(n))\n",
    "confidence_interval = [confidence_low,confidence_high]\n",
    "confidence_interval                                  "
   ]
  },
  {
   "cell_type": "markdown",
   "metadata": {},
   "source": [
    "5. Say we don't know how our population of checks is distributed. How does **sampling** and the **Central Limit Theorem** allow us to **make inferences on the population mean**, i.e. estimate $\\mu, \\sigma$ of the population mean?"
   ]
  },
  {
   "cell_type": "code",
   "execution_count": 137,
   "metadata": {},
   "outputs": [
    {
     "name": "stdout",
     "output_type": "stream",
     "text": [
      "\n",
      "In order to make inferences on the population mean, based on the Central Limnit Theorem:\n",
      "a) I can use different samples of my population\n",
      "b) Create a distribution of the means of the samples\n",
      "c) The distribution of the means will approximate a normal distibution\n",
      "d) Thus, I will be able to estiamtes my population mean using the normal distribution characteristics. \n"
     ]
    }
   ],
   "source": [
    "# Your written answer here\n",
    "print(\"\"\"\n",
    "In order to make inferences on the population mean, based on the Central Limnit Theorem:\n",
    "a) I can use different samples of my population\n",
    "b) Create a distribution of the means of the samples\n",
    "c) The distribution of the means will approximate a normal distibution\n",
    "d) Thus, I will be able to estiamtes my population mean using the normal distribution characteristics. \"\"\")"
   ]
  },
  {
   "cell_type": "markdown",
   "metadata": {},
   "source": [
    "## Part 3: Statistical Testing"
   ]
  },
  {
   "cell_type": "markdown",
   "metadata": {},
   "source": [
    "### a. Hypotheses and Errors\n",
    "\n",
    "This TexMex restaurant recently introduced Queso to its menu. The restaurant owners want to know if customers ordering Queso end up spending **more or less**. Let the average amount on Queso customers' checks be $X_{Q}$.\n",
    "\n",
    "1. Set up the null and alternative hypotheses for this test."
   ]
  },
  {
   "cell_type": "markdown",
   "metadata": {},
   "source": [
    "$H_{0}:$ `There is no difference in the spending of the customers --> Xq = 20`\n",
    "\n",
    "$H_{A}:$ `The average spending of the Queso customers is different than the population --> Xq<>20`"
   ]
  },
  {
   "cell_type": "markdown",
   "metadata": {},
   "source": [
    "2. In this context, what does it mean to make `Type I` and `Type II` errors?"
   ]
  },
  {
   "cell_type": "code",
   "execution_count": 147,
   "metadata": {},
   "outputs": [
    {
     "name": "stdout",
     "output_type": "stream",
     "text": [
      "  Type I error: The owner of the restaurant rejects the fact that there is a no difference in the spending of the Queso customers while it is true (The new customer spends the same average amount of $20). \n",
      "For e.g, he can produce more and more Queso as he is assuming there are spending more which is not true.\n",
      "\n",
      "  Type II error: Ho is false --> The Queso customers spend more or less than the average, however, the \n",
      "owner of the restaurant assumes the opposite (he accepts the hypothesis that Xq = 20)\n",
      "For e.g, he can omit to give them a better service while they are spending more and lose them as he assumed they were spending the same.\n"
     ]
    }
   ],
   "source": [
    "# Your written answer here\n",
    "print(\"\"\"  Type I error: The owner of the restaurant rejects the fact that there is a no difference in the spending of the Queso customers while it is true (The new customer spends the same average amount of $20). \n",
    "For e.g, he can produce more and more Queso as he is assuming there are spending more which is not true.\n",
    "\n",
    "  Type II error: Ho is false --> The Queso customers spend more or less than the average, however, the \n",
    "owner of the restaurant assumes the opposite (he accepts the hypothesis that Xq = 20)\n",
    "For e.g, he can omit to give them a better service while they are spending more and lose them as he assumed they were spending the same.\"\"\")\n"
   ]
  },
  {
   "cell_type": "markdown",
   "metadata": {},
   "source": [
    "### b. Sample Testing"
   ]
  },
  {
   "cell_type": "markdown",
   "metadata": {},
   "source": [
    "Now assume we don't have reliable data on the population. With $\\alpha = 0.05$, we want to determine if Queso checks are significantly more **or** less than normal. We have random samples of Queso and Non-Queso checks. The samples are in the graphs below and you may assume they have equal variances."
   ]
  },
  {
   "cell_type": "code",
   "execution_count": 148,
   "metadata": {
    "scrolled": false
   },
   "outputs": [
    {
     "data": {
      "image/png": "[encoded data removed]",
      "text/plain": [
       "<Figure size 864x288 with 2 Axes>"
      ]
     },
     "metadata": {
      "needs_background": "light"
     },
     "output_type": "display_data"
    }
   ],
   "source": [
    "fig, (ax1, ax2) = plt.subplots(1, 2, figsize=(12, 4))\n",
    "\n",
    "np.random.seed(43)\n",
    "no_queso = np.random.choice(data, 1000)\n",
    "ax1.set_title('Sample of Non-Queso Check Totals')\n",
    "ax1.set_xlabel('Amount')\n",
    "ax1.set_ylabel('Frequency')\n",
    "ax1.hist(no_queso, bins=20)\n",
    "\n",
    "queso = pickle.load(open(\"data/queso.pkl\", \"rb\"))\n",
    "ax2.set_title('Sample of Queso Check Totals')\n",
    "ax2.set_xlabel('Amount')\n",
    "ax2.set_ylabel('Frequency')\n",
    "ax2.hist(queso, bins=20)\n",
    "plt.show()"
   ]
  },
  {
   "cell_type": "markdown",
   "metadata": {},
   "source": [
    "1. Run a `statistical test` on the two samples to determine whether you should reject your null hypothesis."
   ]
  },
  {
   "cell_type": "code",
   "execution_count": 197,
   "metadata": {},
   "outputs": [
    {
     "name": "stdout",
     "output_type": "stream",
     "text": [
      "We reject the null hypothesis of equal averages of spending of Queso and Non-Queso customers.\n"
     ]
    }
   ],
   "source": [
    "#perform a Student t-test comparing the mean of 2 groups\n",
    "result_test = stats.ttest_ind(queso,no_queso,equal_var=True)\n",
    "\n",
    "if result_test[1]<0.05:\n",
    "    print('We reject the null hypothesis of equal averages of spending of Queso and Non-Queso customers.')\n",
    "else:\n",
    "    print('We fail to reject the null hypothesis of equal averages of spending of Queso and Non-Queso customers.')\n"
   ]
  },
  {
   "cell_type": "markdown",
   "metadata": {},
   "source": [
    "2. What are the conditions required to perform the test you chose?"
   ]
  },
  {
   "cell_type": "code",
   "execution_count": 160,
   "metadata": {
    "collapsed": true
   },
   "outputs": [
    {
     "data": {
      "text/plain": [
       "\" I performed a Student t-test (unpaired). The conditions:\\n    1- I don't have reliable data on the population, hence, I don't know its distribution and parameters\\n    2- The variances of the 2 populations are equal\\n    3- Queso and non-queso customers are independant\\n    3- Based on the graphs, the sample size is less than 30 \""
      ]
     },
     "execution_count": 160,
     "metadata": {},
     "output_type": "execute_result"
    }
   ],
   "source": [
    "# Your written answer here\n",
    "\"\"\" I performed a Student t-test (unpaired). The conditions:\n",
    "    1- I don't have reliable data on the population, hence, I don't know its distribution and parameters\n",
    "    2- The variances of the 2 populations are equal\n",
    "    3- Queso and non-queso customers are independant\n",
    "    3- Based on the graphs, the sample size is less than 30 \"\"\"\n",
    "    "
   ]
  },
  {
   "cell_type": "markdown",
   "metadata": {},
   "source": [
    "## Part 4: Bayesian Statistics\n",
    "### a. Bayes' Theorem"
   ]
  },
  {
   "cell_type": "markdown",
   "metadata": {},
   "source": [
    "Thomas wants to get a new puppy 🐕 🐶 🐩 \n",
    "\n",
    "\n",
    "<img src=\"https://media.giphy.com/media/rD8R00QOKwfxC/giphy.gif\" />\n",
    "\n",
    "He can choose to get his new puppy either from the pet store or the pound. The probability of him going to the pet store is $0.2$. \n",
    "\n",
    "He can choose to get either a big, medium or small puppy.\n",
    "\n",
    "If he goes to the pet store, the probability of him getting a small puppy is $0.6$. The probability of him getting a medium puppy is $0.3$, and the probability of him getting a large puppy is $0.1$.\n",
    "\n",
    "If he goes to the pound, the probability of him getting a small puppy is $0.1$. The probability of him getting a medium puppy is $0.35$, and the probability of him getting a large puppy is $0.55$.\n",
    "\n",
    "1. What is the probability of Thomas getting a small puppy?\n",
    "2. Given that he got a large puppy, what is the probability that Thomas went to the pet store?\n",
    "3. Given that Thomas got a small puppy, is it more likely that he went to the pet store or to the pound?\n",
    "4. For Part 2, what is the prior, posterior and likelihood?"
   ]
  },
  {
   "cell_type": "code",
   "execution_count": 198,
   "metadata": {
    "scrolled": true
   },
   "outputs": [
    {
     "data": {
      "text/plain": [
       "(0.6, 0.4)"
      ]
     },
     "execution_count": 198,
     "metadata": {},
     "output_type": "execute_result"
    }
   ],
   "source": [
    "p_petstore_given_small = (p_small_given_petstore*p_petstore)/(p_small_given_petstore*p_petstore+ p_small_given_pound*p_pound)\n",
    "p_petstore_given_small\n",
    "\n",
    "p_pound_given_small = round((p_small_given_pound*p_pound)/(p_small_given_pound*p_pound + p_small_given_petstore*p_petstore),2)\n",
    "p_petstore_given_small,p_pound_given_small"
   ]
  },
  {
   "cell_type": "code",
   "execution_count": 199,
   "metadata": {},
   "outputs": [
    {
     "name": "stdout",
     "output_type": "stream",
     "text": [
      "Answer 1 =  0.2\n",
      "Answer 2 =  0.043\n",
      "Answer 3 =  Given that Thomas got a small puppy, it is more likely that he went to the pet store\n",
      "Answer 4 =  prior: Probability going to the store\n",
      "Answer 5 =  posterior: Probability of large puppy\n",
      "Answer 6 =  likelihood: probability large given going to the store\n"
     ]
    }
   ],
   "source": [
    "p_petstore = .2\n",
    "p_pound = .8\n",
    "\n",
    "p_small_given_petstore = .6\n",
    "p_medium_given_petstore = .3\n",
    "p_large_given_petstore = .1\n",
    "\n",
    "p_small_given_pound = .1\n",
    "p_medium_given_pound = .35\n",
    "p_large_given_pound = .55\n",
    "\n",
    "\n",
    "\n",
    "ans1 = p_petstore*p_small_given_petstore + p_pound*p_small_given_pound\n",
    "ans2 = (p_large_given_petstore*p_petstore)/(p_large_given_petstore*p_petstore+p_large_given_pound*p_pound)\n",
    "ans2=round(ans2,3)\n",
    "# for ans3 compare p_petstore_given_small vs. p_pound_given_small\n",
    "if p_petstore_given_small > p_pound_given_small:\n",
    "    ans3 = \"Given that Thomas got a small puppy, it is more likely that he went to the pet store\"\n",
    "else:\n",
    "    ans3 = \"Given that Thomas got a small puppy, it is more likely that he went to the pound\"\n",
    "ans3\n",
    "ans4_prior = \"prior: Probability going to the store\"\n",
    "ans4_posterior = \"posterior: Probability of large puppy\"\n",
    "ans4_likelihood = \"likelihood: probability large given going to the store\"\n",
    "\n",
    "answers = [ans1,ans2,ans3,ans4_prior,ans4_posterior,ans4_likelihood]\n",
    "for i in range(len(answers)):\n",
    "    print('Answer '+str(i+1)+' = ', answers[i])\n",
    "\n"
   ]
  },
  {
   "cell_type": "code",
   "execution_count": null,
   "metadata": {},
   "outputs": [],
   "source": []
  }
 ],
 "metadata": {
  "kernelspec": {
   "display_name": "Python 3",
   "language": "python",
   "name": "python3"
  },
  "language_info": {
   "codemirror_mode": {
    "name": "ipython",
    "version": 3
   },
   "file_extension": ".py",
   "mimetype": "text/x-python",
   "name": "python",
   "nbconvert_exporter": "python",
   "pygments_lexer": "ipython3",
   "version": "3.7.3"
  }
 },
 "nbformat": 4,
 "nbformat_minor": 2
}
