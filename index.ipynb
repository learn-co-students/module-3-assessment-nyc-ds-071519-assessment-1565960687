{
 "cells": [
  {
   "cell_type": "markdown",
   "metadata": {},
   "source": [
    "# Module 3 Assessment"
   ]
  },
  {
   "cell_type": "markdown",
   "metadata": {},
   "source": [
    "Welcome to your Mod 3 Assessment. You will be tested for your understanding of concepts and ability to solve problems that have been covered in class and in the curriculum.\n",
    "\n",
    "Use any libraries you want to solve the problems in the assessment.\n",
    "\n",
    "You will have up to **two hours** to complete this assessment.\n",
    "\n",
    "The sections of the assessment are:\n",
    "- Combinatorics, Probability and Discrete Distributions\n",
    "- Statistical Distributions\n",
    "- Statistical Tests\n",
    "- Bayesian Statistics\n",
    "\n"
   ]
  },
  {
   "cell_type": "code",
   "execution_count": 1,
   "metadata": {},
   "outputs": [],
   "source": [
    "# import the necessary libraries\n",
    "import numpy as np\n",
    "from scipy import stats\n",
    "import matplotlib.pyplot as plt\n",
    "import pickle"
   ]
  },
  {
   "cell_type": "markdown",
   "metadata": {},
   "source": [
    "## Part 1: Combinatorics, Probability & Discrete Distributions\n",
    "\n",
    "### a. Set Theory\n",
    "\n",
    "Given the following probabilities:\n",
    "\n",
    "$P(A) = 0.7$\n",
    "\n",
    "$P(B) = 0.5$\n",
    "\n",
    "$P(B|A) = 0.4$\n",
    "\n",
    "Find and assign to the variables in the next cell:\n",
    "\n",
    "1. $P(A and B)$\n",
    "\n",
    "2. $P(A or B)$\n",
    "\n",
    "3. $P(A|B)$\n",
    "\n",
    "4. $P(B|A^{c})$\n",
    "\n",
    "Hint: draw a diagram!\n"
   ]
  },
  {
   "cell_type": "code",
   "execution_count": null,
   "metadata": {},
   "outputs": [],
   "source": [
    "ans1 = 0.28\n",
    "ans2 = 0.07\n",
    "ans3 = 0.28/0.5\n",
    "ans4 = 0.22/0.3"
   ]
  },
  {
   "cell_type": "markdown",
   "metadata": {},
   "source": [
    "### b. Card Combinatorics\n",
    "\n",
    "You have a standard deck of 52 cards. We define three subsets:\n",
    "\n",
    "1. What is the probability of drawing a king or a queen?\n",
    "2. How many possible 5-card combinations can be formed with this deck of 52 cards?\n",
    "3. Given that you've drawn 5 cards without replacement, what is the probability of getting **2 red cards** and **3 black cards**?\n"
   ]
  },
  {
   "cell_type": "code",
   "execution_count": null,
   "metadata": {},
   "outputs": [],
   "source": [
    "# ans1 = 8/52\n",
    "# ans2 = 52!/(47!*5!)\n",
    "# ans3 = (26!/(24!*2!))*(26!/(23!*3!)/ans2"
   ]
  },
  {
   "cell_type": "markdown",
   "metadata": {},
   "source": [
    "### c. Discrete Probability Distributions\n",
    "\n",
    "In a game with the same deck of 52 cards, you draw a card $n$ times with replacement. You win a point by drawing a face card (king, queen or jack). \n",
    "\n",
    "1. Let $k$ be the number of points won in the game. Write a function that takes in the number of draws, the probability of winning a point and $k$ to return the corresponding probability."
   ]
  },
  {
   "cell_type": "code",
   "execution_count": 7,
   "metadata": {},
   "outputs": [],
   "source": [
    "def probability_of_scoring_k(n, p, k):\n",
    "    \"\"\"\n",
    "    n = number of draws\n",
    "    p = probability of winning a point\n",
    "    k = number of points scored\n",
    "    \n",
    "    Use np.math.factorial()\n",
    "    \n",
    "    \"\"\"\n",
    "    \n",
    "    P = np.math.factorial(n)/(np.math.factorial(n-k)*np.math.factorial(k))*(p**k)*((1-p)**(n-k))\n",
    "    return P"
   ]
  },
  {
   "cell_type": "markdown",
   "metadata": {},
   "source": [
    "2. Using your function, what is the probability of winning 8 points out of 22 draws?\n"
   ]
  },
  {
   "cell_type": "code",
   "execution_count": 8,
   "metadata": {},
   "outputs": [
    {
     "data": {
      "text/plain": [
       "0.06532117736042573"
      ]
     },
     "execution_count": 8,
     "metadata": {},
     "output_type": "execute_result"
    }
   ],
   "source": [
    "ans2 = probability_of_scoring_k(22, 12/52, 8)\n",
    "ans2"
   ]
  },
  {
   "cell_type": "markdown",
   "metadata": {},
   "source": [
    "3. Plot the probability mass function of $k$ in 22 draws.\n"
   ]
  },
  {
   "cell_type": "code",
   "execution_count": 17,
   "metadata": {},
   "outputs": [],
   "source": [
    "pmf = []\n",
    "for k in list(range(0, 23)):\n",
    "    pmf.append(probability_of_scoring_k(22, 12/52, k))"
   ]
  },
  {
   "cell_type": "code",
   "execution_count": 18,
   "metadata": {},
   "outputs": [
    {
     "data": {
      "text/plain": [
       "Text(0.5, 1.0, 'PMF for 22 draws')"
      ]
     },
     "execution_count": 18,
     "metadata": {},
     "output_type": "execute_result"
    },
    {
     "data": {
      "image/png": "[encoded data removed]",
      "text/plain": [
       "<Figure size 432x288 with 1 Axes>"
      ]
     },
     "metadata": {},
     "output_type": "display_data"
    }
   ],
   "source": [
    "plt.style.use('ggplot')\n",
    "plt.bar(list(range(0, 23)), pmf)\n",
    "plt.title(\"PMF for 22 draws\")"
   ]
  },
  {
   "cell_type": "markdown",
   "metadata": {},
   "source": [
    "4. Plot the cumulative density function of $k$ in 22 draws."
   ]
  },
  {
   "cell_type": "code",
   "execution_count": 24,
   "metadata": {},
   "outputs": [],
   "source": [
    "cdf = []\n",
    "for k in list(range(0, 23)):\n",
    "    cdf.append(sum(pmf[:k]))"
   ]
  },
  {
   "cell_type": "code",
   "execution_count": 25,
   "metadata": {},
   "outputs": [
    {
     "data": {
      "text/plain": [
       "Text(0.5, 1.0, 'CDF for 22 draws')"
      ]
     },
     "execution_count": 25,
     "metadata": {},
     "output_type": "execute_result"
    },
    {
     "data": {
      "image/png": "[encoded data removed]",
      "text/plain": [
       "<Figure size 432x288 with 1 Axes>"
      ]
     },
     "metadata": {},
     "output_type": "display_data"
    }
   ],
   "source": [
    "plt.style.use('ggplot')\n",
    "plt.bar(list(range(0, 23)), cdf)\n",
    "plt.title(\"CDF for 22 draws\")"
   ]
  },
  {
   "cell_type": "markdown",
   "metadata": {},
   "source": [
    "## Part 2: Statistical Distributions"
   ]
  },
  {
   "cell_type": "markdown",
   "metadata": {},
   "source": [
    "### a. Descriptive Statistics"
   ]
  },
  {
   "cell_type": "markdown",
   "metadata": {},
   "source": [
    "1. `ratings` is a list of ratings for a TexMex restaurant. Compute the descriptive statistics of `ratings`."
   ]
  },
  {
   "cell_type": "code",
   "execution_count": 3,
   "metadata": {},
   "outputs": [
    {
     "name": "stdout",
     "output_type": "stream",
     "text": [
      "Mean:  7.694444444444445 \n",
      "Median:  8.0 \n",
      "Mode:  8.0 \n",
      "Standard Deviation:  2.351942984527715 \n",
      "Range:  [1, 10] \n",
      "Interquartile Range:  1.0\n"
     ]
    }
   ],
   "source": [
    "ratings = [1, 2, 7, 7.5, 8, 8, 8, 8, 8, 8, 8, 8, 9, 9, 9, 10, 10, 10]\n",
    "\n",
    "mean = np.mean(ratings)\n",
    "median = np.median(ratings)\n",
    "mode = stats.mode(ratings)[0][0]\n",
    "standard_deviation = np.std(ratings)\n",
    "number_range = [min(ratings), max(ratings)]\n",
    "interquartile_range = stats.iqr(ratings)\n",
    "\n",
    "print(\n",
    "\"Mean: \", mean, \"\\n\" \n",
    "\"Median: \", median, \"\\n\"\n",
    "\"Mode: \", mode, \"\\n\"\n",
    "\"Standard Deviation: \", standard_deviation, \"\\n\"\n",
    "\"Range: \", number_range, \"\\n\"\n",
    "\"Interquartile Range: \", interquartile_range)"
   ]
  },
  {
   "cell_type": "markdown",
   "metadata": {},
   "source": [
    "2. What measure of centrality would you use to most fairly describe the ratings and why?"
   ]
  },
  {
   "cell_type": "code",
   "execution_count": null,
   "metadata": {},
   "outputs": [],
   "source": [
    "# Your written answer here"
   ]
  },
  {
   "cell_type": "markdown",
   "metadata": {},
   "source": [
    "### b. Continuous Distributions\n",
    "\n",
    "Say we have data on all $10,000$ checks for this TexMex restaurant and they happen to be normally distributed with $\\mu = 20$ and $\\sigma = 2$. We can visualize the data as follows: "
   ]
  },
  {
   "cell_type": "code",
   "execution_count": 3,
   "metadata": {},
   "outputs": [
    {
     "data": {
      "image/png": "[encoded data removed]",
      "text/plain": [
       "<Figure size 432x288 with 1 Axes>"
      ]
     },
     "metadata": {
      "needs_background": "light"
     },
     "output_type": "display_data"
    }
   ],
   "source": [
    "# It's a population, not a sample! Population formulas are applied.\n",
    "data = pickle.load(open(\"data/data10000.pkl\", \"rb\"))\n",
    "plt.title('Distribution of Check Totals')\n",
    "plt.xlabel('Amount')\n",
    "plt.ylabel('Frequency')\n",
    "plt.hist(data, bins=80)\n",
    "plt.show()"
   ]
  },
  {
   "cell_type": "markdown",
   "metadata": {},
   "source": [
    "For the following questions, you may use a [z-table](https://www.math.arizona.edu/~rsims/ma464/standardnormaltable.pdf).\n",
    "\n",
    "1. Write a function to compute z-scores of single checks.\n"
   ]
  },
  {
   "cell_type": "code",
   "execution_count": 5,
   "metadata": {},
   "outputs": [],
   "source": [
    "mean = 20\n",
    "std = 2\n",
    "def z_score(check_amt):\n",
    "    \n",
    "    \"\"\"\n",
    "    check_amt = the amount for which we want to compute the z-score\n",
    "    \n",
    "    \"\"\"\n",
    "    \n",
    "    return (check_amt - mean)/std"
   ]
  },
  {
   "cell_type": "markdown",
   "metadata": {},
   "source": [
    "2. Using $\\alpha = 0.05$, is my 23 dollar check significantly **greater** than the mean? Assign boolean `True` for yes, `False` for no to `ans2`.\n",
    "3. What if my check comes up to 24 dollars?"
   ]
  },
  {
   "cell_type": "code",
   "execution_count": 6,
   "metadata": {},
   "outputs": [
    {
     "data": {
      "text/plain": [
       "(1.5, 2.0)"
      ]
     },
     "execution_count": 6,
     "metadata": {},
     "output_type": "execute_result"
    }
   ],
   "source": [
    "ans2 = z_score(23) # > 1.64\n",
    "ans3 = z_score(24) # > 1.64\n",
    "ans2, ans3"
   ]
  },
  {
   "cell_type": "markdown",
   "metadata": {},
   "source": [
    "4. Define **confidence interval** and determine the 95% confidence interval for this population."
   ]
  },
  {
   "cell_type": "code",
   "execution_count": null,
   "metadata": {},
   "outputs": [],
   "source": [
    "conf = (mean - 1.96*std, mean + 1.96*std)"
   ]
  },
  {
   "cell_type": "code",
   "execution_count": null,
   "metadata": {},
   "outputs": [],
   "source": [
    "# Your written answer here"
   ]
  },
  {
   "cell_type": "markdown",
   "metadata": {},
   "source": [
    "5. Say we don't know how our population of checks is distributed. How does **sampling** and the **Central Limit Theorem** allow us to **make inferences on the population mean**, i.e. estimate $\\mu, \\sigma$ of the population mean?"
   ]
  },
  {
   "cell_type": "code",
   "execution_count": null,
   "metadata": {},
   "outputs": [],
   "source": [
    "# Your written answer here"
   ]
  },
  {
   "cell_type": "markdown",
   "metadata": {},
   "source": [
    "## Part 3: Statistical Testing"
   ]
  },
  {
   "cell_type": "markdown",
   "metadata": {},
   "source": [
    "### a. Hypotheses and Errors\n",
    "\n",
    "This TexMex restaurant recently introduced Queso to its menu. The restaurant owners want to know if customers ordering Queso end up spending **more or less**. Let the average amount on Queso customers' checks be $X_{Q}$.\n",
    "\n",
    "1. Set up the null and alternative hypotheses for this test."
   ]
  },
  {
   "cell_type": "markdown",
   "metadata": {},
   "source": [
    "$H_{0}:$ `hypothesis here`\n",
    "\n",
    "$H_{A}:$ `hypothesis here`"
   ]
  },
  {
   "cell_type": "markdown",
   "metadata": {},
   "source": [
    "2. In this context, what does it mean to make `Type I` and `Type II` errors?"
   ]
  },
  {
   "cell_type": "code",
   "execution_count": null,
   "metadata": {},
   "outputs": [],
   "source": [
    "# Your written answer here"
   ]
  },
  {
   "cell_type": "markdown",
   "metadata": {},
   "source": [
    "### b. Sample Testing"
   ]
  },
  {
   "cell_type": "markdown",
   "metadata": {},
   "source": [
    "Now assume we don't have reliable data on the population. With $\\alpha = 0.05$, we want to determine if Queso checks are significantly more **or** less than normal. We have random samples of Queso and Non-Queso checks. The samples are in the graphs below and you may assume they have equal variances."
   ]
  },
  {
   "cell_type": "code",
   "execution_count": 4,
   "metadata": {
    "scrolled": false
   },
   "outputs": [
    {
     "data": {
      "image/png": "[encoded data removed]",
      "text/plain": [
       "<Figure size 864x288 with 2 Axes>"
      ]
     },
     "metadata": {
      "needs_background": "light"
     },
     "output_type": "display_data"
    }
   ],
   "source": [
    "fig, (ax1, ax2) = plt.subplots(1, 2, figsize=(12, 4))\n",
    "\n",
    "np.random.seed(43)\n",
    "no_queso = np.random.choice(data, 1000)\n",
    "ax1.set_title('Sample of Non-Queso Check Totals')\n",
    "ax1.set_xlabel('Amount')\n",
    "ax1.set_ylabel('Frequency')\n",
    "ax1.hist(no_queso, bins=20)\n",
    "\n",
    "queso = pickle.load(open(\"data/queso.pkl\", \"rb\"))\n",
    "ax2.set_title('Sample of Queso Check Totals')\n",
    "ax2.set_xlabel('Amount')\n",
    "ax2.set_ylabel('Frequency')\n",
    "ax2.hist(queso, bins=20)\n",
    "plt.show()"
   ]
  },
  {
   "cell_type": "markdown",
   "metadata": {},
   "source": [
    "1. Run a `statistical test` on the two samples to determine whether you should reject your null hypothesis."
   ]
  },
  {
   "cell_type": "code",
   "execution_count": 5,
   "metadata": {},
   "outputs": [
    {
     "name": "stdout",
     "output_type": "stream",
     "text": [
      "Ttest_indResult(statistic=-45.16857748646329, pvalue=1.29670967092511e-307)\n"
     ]
    }
   ],
   "source": [
    "print(stats.ttest_ind(no_queso, queso))"
   ]
  },
  {
   "cell_type": "markdown",
   "metadata": {},
   "source": [
    "2. What are the conditions required to perform the test you chose?"
   ]
  },
  {
   "cell_type": "code",
   "execution_count": null,
   "metadata": {},
   "outputs": [],
   "source": [
    "# Your written answer here"
   ]
  },
  {
   "cell_type": "markdown",
   "metadata": {},
   "source": [
    "## Part 4: Bayesian Statistics\n",
    "### a. Bayes' Theorem"
   ]
  },
  {
   "cell_type": "markdown",
   "metadata": {},
   "source": [
    "Thomas wants to get a new puppy 🐕 🐶 🐩 \n",
    "\n",
    "\n",
    "<img src=\"https://media.giphy.com/media/rD8R00QOKwfxC/giphy.gif\" />\n",
    "\n",
    "He can choose to get his new puppy either from the pet store or the pound. The probability of him going to the pet store is $0.2$. \n",
    "\n",
    "He can choose to get either a big, medium or small puppy.\n",
    "\n",
    "If he goes to the pet store, the probability of him getting a small puppy is $0.6$. The probability of him getting a medium puppy is $0.3$, and the probability of him getting a large puppy is $0.1$.\n",
    "\n",
    "If he goes to the pound, the probability of him getting a small puppy is $0.1$. The probability of him getting a medium puppy is $0.35$, and the probability of him getting a large puppy is $0.55$.\n",
    "\n",
    "1. What is the probability of Thomas getting a small puppy?\n",
    "2. Given that he got a large puppy, what is the probability that Thomas went to the pet store?\n",
    "3. Given that Thomas got a small puppy, is it more likely that he went to the pet store or to the pound?\n",
    "4. For Part 2, what is the prior, posterior and likelihood?"
   ]
  },
  {
   "cell_type": "code",
   "execution_count": null,
   "metadata": {},
   "outputs": [],
   "source": [
    "ans1 = 0.2\n",
    "ans2 = 0.04\n",
    "ans3 = \"pet store\"\n",
    "ans4_prior = \"P(pet store)\"\n",
    "ans4_posterior = \"P(pet store|large puppy)\"\n",
    "ans4_likelihood = \"P(large puppy|pet store)\""
   ]
  }
 ],
 "metadata": {
  "kernelspec": {
   "display_name": "Python 3",
   "language": "python",
   "name": "python3"
  },
  "language_info": {
   "codemirror_mode": {
    "name": "ipython",
    "version": 3
   },
   "file_extension": ".py",
   "mimetype": "text/x-python",
   "name": "python",
   "nbconvert_exporter": "python",
   "pygments_lexer": "ipython3",
   "version": "3.7.3"
  }
 },
 "nbformat": 4,
 "nbformat_minor": 2
}
