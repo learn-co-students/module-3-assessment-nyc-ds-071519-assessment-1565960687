{
 "cells": [
  {
   "cell_type": "markdown",
   "metadata": {},
   "source": [
    "# Module 3 Assessment"
   ]
  },
  {
   "cell_type": "markdown",
   "metadata": {},
   "source": [
    "Welcome to your Mod 3 Assessment. You will be tested for your understanding of concepts and ability to solve problems that have been covered in class and in the curriculum.\n",
    "\n",
    "Use any libraries you want to solve the problems in the assessment.\n",
    "\n",
    "You will have up to **two hours** to complete this assessment.\n",
    "\n",
    "The sections of the assessment are:\n",
    "- Combinatorics, Probability and Discrete Distributions\n",
    "- Statistical Distributions\n",
    "- Statistical Tests\n",
    "- Bayesian Statistics\n",
    "\n"
   ]
  },
  {
   "cell_type": "code",
   "execution_count": 72,
   "metadata": {},
   "outputs": [],
   "source": [
    "# import the necessary libraries\n",
    "import pandas as pd\n",
    "import numpy as np\n",
    "import scipy.stats as st\n",
    "import matplotlib.pyplot as plt\n",
    "import seaborn as sns\n",
    "import pickle\n",
    "import math\n",
    "from collections import Counter"
   ]
  },
  {
   "cell_type": "markdown",
   "metadata": {},
   "source": [
    "## Part 1: Combinatorics, Probability & Discrete Distributions\n",
    "\n",
    "### a. Set Theory\n",
    "\n",
    "Given the following probabilities:\n",
    "\n",
    "$P(A) = 0.7$\n",
    "\n",
    "$P(B) = 0.5$\n",
    "\n",
    "$P(B|A) = 0.4$\n",
    "\n",
    "Find and assign to the variables in the next cell:\n",
    "\n",
    "1. $P(A and B)$\n",
    "\n",
    "2. $P(A or B)$\n",
    "\n",
    "3. $P(A|B)$\n",
    "\n",
    "4. $P(B|A^{c})$\n",
    "\n",
    "Hint: draw a diagram!\n"
   ]
  },
  {
   "cell_type": "code",
   "execution_count": null,
   "metadata": {},
   "outputs": [],
   "source": [
    "# P(B int A) = P(A) * 0.4\n",
    "ans1 = 0.28\n",
    "\n",
    "# (AuB) = P(A) + P(B) - P(A int B)\n",
    "ans2 = 0.92\n",
    "\n",
    "#P(A|B) = P(A int B)/ P(B)\n",
    "ans3 = 0.56\n",
    "\n",
    "# P(B|A) + P(B|A') = 1 ---> complements\n",
    "ans4 = 0.6"
   ]
  },
  {
   "cell_type": "markdown",
   "metadata": {},
   "source": [
    "### b. Card Combinatorics\n",
    "\n",
    "You have a standard deck of 52 cards. We define three subsets:\n",
    "\n",
    "1. What is the probability of drawing a king or a queen?\n",
    "2. How many possible 5-card combinations can be formed with this deck of 52 cards?\n",
    "3. Given that you've drawn 5 cards without replacement, what is the probability of getting **2 red cards** and **3 black cards**?\n"
   ]
  },
  {
   "cell_type": "code",
   "execution_count": 120,
   "metadata": {},
   "outputs": [
    {
     "name": "stdout",
     "output_type": "stream",
     "text": [
      "2598960.0\n"
     ]
    }
   ],
   "source": [
    "# 4 queens + 4 kings / total cards\n",
    "ans1 = 8/52\n",
    "\n",
    "#  n! / (n-k)! / k!\n",
    "ans2 = math.factorial(52)/ (math.factorial(52-5) * math.factorial(5))\n",
    "\n",
    "# change for 2 red and 3 black (ONE OPTION) = (27/43 * 26/53 * 27*52 * 26/51 * 25/50))\n",
    "comb2 = (math.factorial(26)/(math.factorial(24) * math.factorial(2))) \n",
    "comb3 = (math.factorial(26)/(math.factorial(23) * math.factorial(3)))\n",
    "\n",
    "ans3 = (comb2*comb3) / ans2"
   ]
  },
  {
   "cell_type": "markdown",
   "metadata": {},
   "source": [
    "### c. Discrete Probability Distributions\n",
    "\n",
    "In a game with the same deck of 52 cards, you draw a card $n$ times with replacement. You win a point by drawing a face card (king, queen or jack). \n",
    "\n",
    "1. Let $k$ be the number of points won in the game. Write a function that takes in the number of draws, the probability of winning a point and $k$ to return the corresponding probability."
   ]
  },
  {
   "cell_type": "code",
   "execution_count": 23,
   "metadata": {},
   "outputs": [],
   "source": [
    "def probability_of_scoring_k(n, p, k):\n",
    "    \"\"\"\n",
    "    n = number of draws\n",
    "    p = probability of winning a point\n",
    "    k = number of points scored\n",
    "    \n",
    "    Use np.factorial()\n",
    "    \n",
    "    \"\"\"\n",
    "    #(n/k) = p^k * (1-p)^(n-k)\n",
    "    combs = math.factorial(n)/(math.factorial(n-k) * math.factorial(k))\n",
    "    return combs * p**k * (1-p)**(n-k)"
   ]
  },
  {
   "cell_type": "markdown",
   "metadata": {},
   "source": [
    "2. Using your function, what is the probability of winning 8 points out of 22 draws?\n"
   ]
  },
  {
   "cell_type": "code",
   "execution_count": 25,
   "metadata": {},
   "outputs": [
    {
     "data": {
      "text/plain": [
       "0.06532117736042573"
      ]
     },
     "execution_count": 25,
     "metadata": {},
     "output_type": "execute_result"
    }
   ],
   "source": [
    "p = 12/52\n",
    "ans2 = probability_of_scoring_k(n=22, p=p, k=8)"
   ]
  },
  {
   "cell_type": "markdown",
   "metadata": {},
   "source": [
    "3. Plot the probability mass function of $k$ in 22 draws.\n"
   ]
  },
  {
   "cell_type": "code",
   "execution_count": 138,
   "metadata": {},
   "outputs": [
    {
     "data": {
      "image/png": "[encoded data removed]",
      "text/plain": [
       "<Figure size 432x288 with 1 Axes>"
      ]
     },
     "metadata": {
      "needs_background": "light"
     },
     "output_type": "display_data"
    }
   ],
   "source": [
    "ks = list(range(0,23))\n",
    "\n",
    "pmf = []\n",
    "for k in ks:\n",
    "    pmf.append(probability_of_scoring_k(n=22, p=p, k=k))\n",
    "\n",
    "plt.bar(ks, pmf)\n",
    "plt.show()\n",
    "    \n"
   ]
  },
  {
   "cell_type": "markdown",
   "metadata": {},
   "source": [
    "4. Plot the cumulative density function of $k$ in 22 draws."
   ]
  },
  {
   "cell_type": "code",
   "execution_count": 176,
   "metadata": {},
   "outputs": [
    {
     "data": {
      "image/png": "[encoded data removed]",
      "text/plain": [
       "<Figure size 432x288 with 1 Axes>"
      ]
     },
     "metadata": {
      "needs_background": "light"
     },
     "output_type": "display_data"
    }
   ],
   "source": [
    "plt.bar(ks, np.cumsum(pmf))\n",
    "plt.xlabel(\"Probablity for number of wins\")\n",
    "plt.ylabel(\"Cumulative Probability\")\n",
    "plt.xticks(np.linspace(0,22,num=11))\n",
    "plt.show()"
   ]
  },
  {
   "cell_type": "markdown",
   "metadata": {},
   "source": [
    "## Part 2: Statistical Distributions"
   ]
  },
  {
   "cell_type": "markdown",
   "metadata": {},
   "source": [
    "### a. Descriptive Statistics"
   ]
  },
  {
   "cell_type": "markdown",
   "metadata": {},
   "source": [
    "1. `ratings` is a list of ratings for a TexMex restaurant. Compute the descriptive statistics of `ratings`."
   ]
  },
  {
   "cell_type": "code",
   "execution_count": 75,
   "metadata": {},
   "outputs": [
    {
     "name": "stdout",
     "output_type": "stream",
     "text": [
      "Mean:  7.694444444444445 \n",
      "Median:  8.0 \n",
      "Mode:  8.0 \n",
      "Standard Deviation:  2.351942984527715 \n",
      "Range:  9.0 \n",
      "Interquartile Range:  1.0\n"
     ]
    }
   ],
   "source": [
    "ratings = [1, 2, 7, 7.5, 8, 8, 8, 8, 8, 8, 8, 8, 9, 9, 9, 10, 10, 10]\n",
    "ratings = np.array(ratings)\n",
    "mean = ratings.mean()\n",
    "median = np.median(ratings)\n",
    "mode = Counter(ratings).most_common(1)[0][0]\n",
    "standard_deviation = ratings.std()\n",
    "number_range = ratings.max() - ratings.min()\n",
    "q75, q25 = np.percentile(ratings, [75 ,25])\n",
    "interquartile_range = q75 - q25\n",
    "\n",
    "print(\n",
    "\"Mean: \", mean, \"\\n\" \n",
    "\"Median: \", median, \"\\n\"\n",
    "\"Mode: \", mode, \"\\n\"\n",
    "\"Standard Deviation: \", standard_deviation, \"\\n\"\n",
    "\"Range: \", number_range, \"\\n\"\n",
    "\"Interquartile Range: \", interquartile_range)"
   ]
  },
  {
   "cell_type": "markdown",
   "metadata": {},
   "source": [
    "2. What measure of centrality would you use to most fairly describe the ratings and why?"
   ]
  },
  {
   "cell_type": "code",
   "execution_count": null,
   "metadata": {},
   "outputs": [],
   "source": [
    "# The median - because the range of the data is pretty high could also used to mode if I remove the outliers seeing as the IQR is pretty small"
   ]
  },
  {
   "cell_type": "markdown",
   "metadata": {},
   "source": [
    "### b. Continuous Distributions\n",
    "\n",
    "Say we have data on all $10,000$ checks for this TexMex restaurant and they happen to be normally distributed with $\\mu = 20$ and $\\sigma = 2$. We can visualize the data as follows: "
   ]
  },
  {
   "cell_type": "code",
   "execution_count": 76,
   "metadata": {},
   "outputs": [
    {
     "data": {
      "image/png": "[encoded data removed]",
      "text/plain": [
       "<Figure size 432x288 with 1 Axes>"
      ]
     },
     "metadata": {
      "needs_background": "light"
     },
     "output_type": "display_data"
    }
   ],
   "source": [
    "data = pickle.load(open(\"data/data10000.pkl\", \"rb\"))\n",
    "plt.title('Distribution of Check Totals')\n",
    "plt.xlabel('Amount')\n",
    "plt.ylabel('Frequency')\n",
    "plt.hist(data, bins=80)\n",
    "plt.show()"
   ]
  },
  {
   "cell_type": "markdown",
   "metadata": {},
   "source": [
    "For the following questions, you may use a [z-table](https://www.math.arizona.edu/~rsims/ma464/standardnormaltable.pdf).\n",
    "\n",
    "1. Write a function to compute z-scores of single checks.\n"
   ]
  },
  {
   "cell_type": "code",
   "execution_count": 78,
   "metadata": {},
   "outputs": [],
   "source": [
    "def z_score(check_amt):\n",
    "    mu = 20\n",
    "    sigma = 2\n",
    "    \"\"\"\n",
    "    check_amt = the amount for which we want to compute the z-score\n",
    "    \n",
    "    \"\"\"\n",
    "    z = (check_amt - mu)/sigma\n",
    "    return z"
   ]
  },
  {
   "cell_type": "markdown",
   "metadata": {},
   "source": [
    "2. Using $\\alpha = 0.05$, is my 23 dollar check significantly **greater** than the mean? Assign boolean `True` for yes, `False` for no to `ans2`.\n",
    "3. What if my check comes up to 24 dollars?"
   ]
  },
  {
   "cell_type": "code",
   "execution_count": 133,
   "metadata": {},
   "outputs": [
    {
     "name": "stdout",
     "output_type": "stream",
     "text": [
      "False\n"
     ]
    }
   ],
   "source": [
    "# H0 - xbar <= mu\n",
    "# H0 - xbar > mu\n",
    "z = z_score(24)\n",
    "ans2 = 0.05 > (1-0.93319)\n",
    "ans3 = 0.05 > (1-0.97725)\n"
   ]
  },
  {
   "cell_type": "markdown",
   "metadata": {},
   "source": [
    "4. Define **confidence interval** and determine the 95% confidence interval for this population."
   ]
  },
  {
   "cell_type": "code",
   "execution_count": 94,
   "metadata": {},
   "outputs": [
    {
     "data": {
      "text/plain": [
       "[16, 24]"
      ]
     },
     "execution_count": 94,
     "metadata": {},
     "output_type": "execute_result"
    }
   ],
   "source": [
    "#[mu-2sigma, mu+2sigma]\n",
    "mu = 20\n",
    "sigma = 2\n",
    "[mu-2*sigma, mu+2*sigma]"
   ]
  },
  {
   "cell_type": "code",
   "execution_count": null,
   "metadata": {},
   "outputs": [],
   "source": [
    "# in normal distribution 95% of the population are 2 standard deviations away from the means"
   ]
  },
  {
   "cell_type": "markdown",
   "metadata": {},
   "source": [
    "5. Say we don't know how our population of checks is distributed. How does **sampling** and the **Central Limit Theorem** allow us to **make inferences on the population mean**, i.e. estimate $\\mu, \\sigma$ of the population mean?"
   ]
  },
  {
   "cell_type": "code",
   "execution_count": null,
   "metadata": {},
   "outputs": [],
   "source": [
    "# the centeral limit theorem shows the the means of samples taken from any population are normally distributed"
   ]
  },
  {
   "cell_type": "markdown",
   "metadata": {},
   "source": [
    "## Part 3: Statistical Testing"
   ]
  },
  {
   "cell_type": "markdown",
   "metadata": {},
   "source": [
    "### a. Hypotheses and Errors\n",
    "\n",
    "This TexMex restaurant recently introduced Queso to its menu. The restaurant owners want to know if customers ordering Queso end up spending **more or less**. Let the average amount on Queso customers' checks be $X_{Q}$.\n",
    "\n",
    "1. Set up the null and alternative hypotheses for this test."
   ]
  },
  {
   "cell_type": "markdown",
   "metadata": {},
   "source": [
    "$H_{0}:$ `𝑋𝑄 = MU`\n",
    "\n",
    "$H_{A}:$ `𝑋𝑄 != MU`"
   ]
  },
  {
   "cell_type": "markdown",
   "metadata": {},
   "source": [
    "2. In this context, what does it mean to make `Type I` and `Type II` errors?"
   ]
  },
  {
   "cell_type": "code",
   "execution_count": null,
   "metadata": {},
   "outputs": [],
   "source": [
    "# type 1  (false positive) - reject the null hypothesis and say that costumers purchasing quesos spend more when they are not \n",
    "# type 2 (false negative) - not reject null even though people buying quesos actually spend more overall"
   ]
  },
  {
   "cell_type": "markdown",
   "metadata": {},
   "source": [
    "### b. Sample Testing"
   ]
  },
  {
   "cell_type": "markdown",
   "metadata": {},
   "source": [
    "Now assume we don't have reliable data on the population. With $\\alpha = 0.05$, we want to determine if Queso checks are significantly more **or** less than normal. We have random samples of Queso and Non-Queso checks. The samples are in the graphs below and you may assume they have equal variances."
   ]
  },
  {
   "cell_type": "code",
   "execution_count": 95,
   "metadata": {
    "scrolled": false
   },
   "outputs": [
    {
     "data": {
      "image/png": "[encoded data removed]",
      "text/plain": [
       "<Figure size 864x288 with 2 Axes>"
      ]
     },
     "metadata": {
      "needs_background": "light"
     },
     "output_type": "display_data"
    }
   ],
   "source": [
    "fig, (ax1, ax2) = plt.subplots(1, 2, figsize=(12, 4))\n",
    "\n",
    "np.random.seed(43)\n",
    "no_queso = np.random.choice(data, 1000)\n",
    "ax1.set_title('Sample of Non-Queso Check Totals')\n",
    "ax1.set_xlabel('Amount')\n",
    "ax1.set_ylabel('Frequency')\n",
    "ax1.hist(no_queso, bins=20)\n",
    "\n",
    "queso = pickle.load(open(\"data/queso.pkl\", \"rb\"))\n",
    "ax2.set_title('Sample of Queso Check Totals')\n",
    "ax2.set_xlabel('Amount')\n",
    "ax2.set_ylabel('Frequency')\n",
    "ax2.hist(queso, bins=20)\n",
    "plt.show()"
   ]
  },
  {
   "cell_type": "markdown",
   "metadata": {},
   "source": [
    "1. Run a `statistical test` on the two samples to determine whether you should reject your null hypothesis."
   ]
  },
  {
   "cell_type": "code",
   "execution_count": null,
   "metadata": {},
   "outputs": [],
   "source": [
    "# H0 - x_nq = x_q\n",
    "# H1 - x_nq != x_q\n",
    "# two sided t test - I need a calculator for this.... this is complicated i'll google scipy later"
   ]
  },
  {
   "cell_type": "code",
   "execution_count": 119,
   "metadata": {},
   "outputs": [
    {
     "name": "stdout",
     "output_type": "stream",
     "text": [
      "45.19117872755062\n",
      "reject the null hypothesis - there is a significant difference in \n",
      "             mean payments between groups that buyed quesos and those that don't \n"
     ]
    }
   ],
   "source": [
    "x_q = queso.mean()\n",
    "x_nq = no_queso.mean()\n",
    "\n",
    "nq = len(queso)\n",
    "nnq = len(no_queso)\n",
    "q_std = queso.std()\n",
    "nq_std = no_queso.std()\n",
    "\n",
    "# did the hard way first - went to lunch \n",
    "Sp = math.sqrt(((nq-1)*q_std**2 + (nnq-1)*nq_std**2) / (nq + nnq - 2))\n",
    "\n",
    "sd_n_nq = Sp * math.sqrt(1/nq + 1/nnq)\n",
    "\n",
    "t_stat = (x_q - x_nq)/sd_n_nq\n",
    "print(t_stat) # thought this is a mistake because this so big\n",
    "t_crit = 1.962 # t test, df = 999 (~1000), two tailed 0.05 --> (.975)\n",
    "# used scipy \n",
    "# t_stat = st.ttest_ind(queso, no_queso) # same results - and the gal rejoiced\n",
    "if t_stat > t_crit:\n",
    "    print(\"\"\"reject the null hypothesis - there is a significant difference in \n",
    "             mean payments between groups that purchased quesos and those that didn't \"\"\")\n"
   ]
  },
  {
   "cell_type": "markdown",
   "metadata": {},
   "source": [
    "2. What are the conditions required to perform the test you chose?"
   ]
  },
  {
   "cell_type": "code",
   "execution_count": null,
   "metadata": {},
   "outputs": [],
   "source": [
    "#  equal variances between samples"
   ]
  },
  {
   "cell_type": "markdown",
   "metadata": {},
   "source": [
    "## Part 4: Bayesian Statistics\n",
    "### a. Bayes' Theorem"
   ]
  },
  {
   "cell_type": "markdown",
   "metadata": {},
   "source": [
    "Thomas wants to get a new puppy 🐕 🐶 🐩 \n",
    "\n",
    "\n",
    "<img src=\"https://media.giphy.com/media/rD8R00QOKwfxC/giphy.gif\" />\n",
    "\n",
    "He can choose to get his new puppy either from the pet store or the pound. The probability of him going to the pet store is $0.2$. \n",
    "\n",
    "He can choose to get either a big, medium or small puppy.\n",
    "\n",
    "If he goes to the pet store, the probability of him getting a small puppy is $0.6$. The probability of him getting a medium puppy is $0.3$, and the probability of him getting a large puppy is $0.1$.\n",
    "\n",
    "If he goes to the pound, the probability of him getting a small puppy is $0.1$. The probability of him getting a medium puppy is $0.35$, and the probability of him getting a large puppy is $0.55$.\n",
    "\n",
    "1. What is the probability of Thomas getting a small puppy?\n",
    "2. Given that he got a large puppy, what is the probability that Thomas went to the pet store?\n",
    "3. Given that Thomas got a small puppy, is it more likely that he went to the pet store or to the pound?\n",
    "4. For Part 2, what is the prior, posterior and likelihood?"
   ]
  },
  {
   "cell_type": "code",
   "execution_count": 134,
   "metadata": {},
   "outputs": [
    {
     "name": "stdout",
     "output_type": "stream",
     "text": [
      "0.043478260869565216\n"
     ]
    }
   ],
   "source": [
    "ans1 = 0.2*0.6 + 0.8*0.1\n",
    "#p(big pup in store)/ big pup\n",
    "ans2 = 0.2*0.1/(0.2*0.1 + 0.8*0.55)\n",
    "ans3 = \"at the store\"\n",
    "ans4_prior = \" bayes got a large puppy\"\n",
    "ans4_posterior = \"probability he went to the pet store given he got large puppy\"\n",
    "ans4_likelihood = \"probability he got a large puppy given he went to the pet store\""
   ]
  },
  {
   "cell_type": "code",
   "execution_count": null,
   "metadata": {},
   "outputs": [],
   "source": []
  }
 ],
 "metadata": {
  "kernelspec": {
   "display_name": "Python 3",
   "language": "python",
   "name": "python3"
  },
  "language_info": {
   "codemirror_mode": {
    "name": "ipython",
    "version": 3
   },
   "file_extension": ".py",
   "mimetype": "text/x-python",
   "name": "python",
   "nbconvert_exporter": "python",
   "pygments_lexer": "ipython3",
   "version": "3.7.2"
  }
 },
 "nbformat": 4,
 "nbformat_minor": 2
}
