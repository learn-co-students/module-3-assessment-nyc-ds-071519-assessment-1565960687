{
 "cells": [
  {
   "cell_type": "markdown",
   "metadata": {},
   "source": [
    "# Module 3 Assessment"
   ]
  },
  {
   "cell_type": "markdown",
   "metadata": {},
   "source": [
    "Welcome to your Mod 3 Assessment. You will be tested for your understanding of concepts and ability to solve problems that have been covered in class and in the curriculum.\n",
    "\n",
    "Use any libraries you want to solve the problems in the assessment.\n",
    "\n",
    "You will have up to **two hours** to complete this assessment.\n",
    "\n",
    "The sections of the assessment are:\n",
    "- Combinatorics, Probability and Discrete Distributions\n",
    "- Statistical Distributions\n",
    "- Statistical Tests\n",
    "- Bayesian Statistics\n",
    "\n"
   ]
  },
  {
   "cell_type": "code",
   "execution_count": 1,
   "metadata": {},
   "outputs": [],
   "source": [
    "# import the necessary libraries\n",
    "import numpy as np\n",
    "from scipy import stats\n",
    "import matplotlib.pyplot as plt\n",
    "import pickle"
   ]
  },
  {
   "cell_type": "markdown",
   "metadata": {},
   "source": [
    "## Part 1: Combinatorics, Probability & Discrete Distributions\n",
    "\n",
    "### a. Set Theory\n",
    "\n",
    "Given the following probabilities:\n",
    "\n",
    "$P(A) = 0.7$\n",
    "\n",
    "$P(B) = 0.5$\n",
    "\n",
    "$P(B|A) = 0.4$\n",
    "\n",
    "Find and assign to the variables in the next cell:\n",
    "\n",
    "1. $P(A and B)$\n",
    "\n",
    "2. $P(A or B)$\n",
    "\n",
    "3. $P(A|B)$\n",
    "\n",
    "4. $P(B|A^{c})$\n",
    "\n",
    "Hint: draw a diagram!\n"
   ]
  },
  {
   "cell_type": "code",
   "execution_count": 14,
   "metadata": {},
   "outputs": [
    {
     "name": "stdout",
     "output_type": "stream",
     "text": [
      "GIVEN:  \n",
      "p_a:  0.7\n",
      "p_b:  0.5\n",
      "p_b_given_a:  0.4\n",
      "\n",
      "\n",
      "SOLVE: \n",
      "p_a_given_b after Bayes:  0.5599999999999999\n",
      "p_a_and_b after cond prob:   0.27999999999999997\n",
      "p_a_or_b:   0.9199999999999999\n",
      "p_b_given_comp_a:  0.6\n"
     ]
    }
   ],
   "source": [
    "# set out our probability facts first - \n",
    "# Given:\n",
    "p_a = .7\n",
    "p_b = .5\n",
    "p_b_given_a = .4\n",
    "\n",
    "print('GIVEN:  ')\n",
    "print('p_a: ', p_a)\n",
    "print('p_b: ', p_b)\n",
    "print('p_b_given_a: ', p_b_given_a)\n",
    "\n",
    "\n",
    "# Unknown:\n",
    "p_a_and_b = 0        # Q1\n",
    "p_a_or_b = 0         # Q2\n",
    "p_a_given_b = 0      # Q3\n",
    "p_b_given_comp_a = 0 # Q4\n",
    "\n",
    "\n",
    "# apply formulas\n",
    "\n",
    "# use Bayes first (most familiar!):\n",
    "p_a_given_b = (p_b_given_a * p_a) / p_b\n",
    "\n",
    "# use multiplication rule:\n",
    "p_a_and_b = p_b * p_a_given_b\n",
    "\n",
    "# union with exclusion\n",
    "p_a_or_b = (p_a + p_b) - p_a_and_b\n",
    "\n",
    "# complmenet\n",
    "p_b_given_comp_a = 1 - p_b_given_a\n",
    "\n",
    "print('\\n')\n",
    "print('SOLVE: ')\n",
    "print('p_a_given_b after Bayes: ', p_a_given_b)\n",
    "print('p_a_and_b after cond prob:  ', p_a_and_b)\n",
    "print('p_a_or_b:  ', p_a_or_b)\n",
    "print('p_b_given_comp_a: ', p_b_given_comp_a)\n",
    "\n",
    "ans1 = round(p_a_and_b, 3)\n",
    "ans2 = round(p_a_or_b, 3)\n",
    "ans3 = round(p_a_given_b, 3)\n",
    "ans4 = round(p_b_given_comp_a, 3)"
   ]
  },
  {
   "cell_type": "markdown",
   "metadata": {},
   "source": [
    "### b. Card Combinatorics\n",
    "\n",
    "You have a standard deck of 52 cards. We define three subsets:\n",
    "\n",
    "1. What is the probability of drawing a king or a queen?\n",
    "2. How many possible 5-card combinations can be formed with this deck of 52 cards?\n",
    "3. Given that you've drawn 5 cards without replacement, what is the probability of getting **2 red cards** and **3 black cards**?\n",
    "\n"
   ]
  },
  {
   "cell_type": "code",
   "execution_count": 18,
   "metadata": {},
   "outputs": [],
   "source": [
    "import math"
   ]
  },
  {
   "cell_type": "code",
   "execution_count": 23,
   "metadata": {},
   "outputs": [
    {
     "name": "stdout",
     "output_type": "stream",
     "text": [
      "ans1:  0.154\n",
      "ans2:  2598960.0\n",
      "ans3:  0.001\n"
     ]
    }
   ],
   "source": [
    "# facts first:\n",
    "deck = 52\n",
    "kings = 4\n",
    "queens = 4\n",
    "king_or_queen = kings + queens\n",
    "k_val = 5 # for Q2\n",
    "\n",
    "#Q1:\n",
    "ans1 = round(king_or_queen / deck, 3)\n",
    "print('ans1: ', ans1)\n",
    "\n",
    "#Q2:\n",
    "ans2 = math.factorial(deck) / (math.factorial(deck-k_val) * math.factorial(k_val))\n",
    "print('ans2: ', ans2)\n",
    "\n",
    "# Q3\n",
    "# set up some facts:\n",
    "reds = 2\n",
    "blacks = 3\n",
    "cards = 5\n",
    "\n",
    "# event space:\n",
    "red_black = math.factorial(cards) / (math.factorial(reds) * math.factorial(blacks))\n",
    "\n",
    "# sample space:\n",
    "all_cards = (reds * blacks)**cards\n",
    "\n",
    "ans3 = round(red_black / all_cards, 3)\n",
    "print('ans3: ', ans3)"
   ]
  },
  {
   "cell_type": "markdown",
   "metadata": {},
   "source": [
    "### c. Discrete Probability Distributions\n",
    "\n",
    "In a game with the same deck of 52 cards, you draw a card $n$ times with replacement. You win a point by drawing a face card (king, queen or jack). \n",
    "\n",
    "1. Let $k$ be the number of points won in the game. Write a function that takes in the number of draws, the probability of winning a point and $k$ to return the corresponding probability."
   ]
  },
  {
   "cell_type": "code",
   "execution_count": 42,
   "metadata": {},
   "outputs": [],
   "source": [
    "def probability_of_scoring_k(n, p, k):\n",
    "    \"\"\"\n",
    "    n = number of draws\n",
    "    p = probability of winning a point\n",
    "    k = number of points scored\n",
    "    \n",
    "    Use np.factorial()\n",
    "    \n",
    "    \"\"\"\n",
    "    \n",
    "    # use binomial formula:\n",
    "    return (np.math.factorial(n) / (np.math.factorial(n-k) * np.math.factorial(k))) * (p**k) * (1-p)**(n-k)\n",
    "    "
   ]
  },
  {
   "cell_type": "markdown",
   "metadata": {},
   "source": [
    "2. Using your function, what is the probability of winning 8 points out of 22 draws?\n"
   ]
  },
  {
   "cell_type": "code",
   "execution_count": 43,
   "metadata": {},
   "outputs": [
    {
     "name": "stdout",
     "output_type": "stream",
     "text": [
      "ans2:  0.066\n"
     ]
    }
   ],
   "source": [
    "# establish probability first\n",
    "faces = 12\n",
    "deck = 52\n",
    "\n",
    "prob = round(faces / deck, 3)\n",
    "\n",
    "ans2 = round(probability_of_scoring_k(22, prob, 8), 3)\n",
    "print('ans2: ', ans2)"
   ]
  },
  {
   "cell_type": "markdown",
   "metadata": {},
   "source": [
    "3. Plot the probability mass function of $k$ in 22 draws.\n"
   ]
  },
  {
   "cell_type": "code",
   "execution_count": 103,
   "metadata": {},
   "outputs": [
    {
     "data": {
      "text/plain": [
       "<BarContainer object of 22 artists>"
      ]
     },
     "execution_count": 103,
     "metadata": {},
     "output_type": "execute_result"
    },
    {
     "data": {
      "image/png": "[encoded data removed]",
      "text/plain": [
       "<Figure size 432x288 with 1 Axes>"
      ]
     },
     "metadata": {
      "needs_background": "light"
     },
     "output_type": "display_data"
    }
   ],
   "source": [
    "draw_probs = []\n",
    "for k in range(1, 23):\n",
    "    draw_p = round((k / 22), 3)\n",
    "    draw_probs.append(probability_of_scoring_k(22, draw_p, k))\n",
    "    pmf = np.array(draw_probs)\n",
    "    \n",
    "plt.bar(list(range(1,23)), pmf)"
   ]
  },
  {
   "cell_type": "markdown",
   "metadata": {},
   "source": [
    "4. Plot the cumulative density function of $k$ in 22 draws."
   ]
  },
  {
   "cell_type": "code",
   "execution_count": 104,
   "metadata": {},
   "outputs": [
    {
     "data": {
      "image/png": "[encoded data removed]",
      "text/plain": [
       "<Figure size 576x288 with 1 Axes>"
      ]
     },
     "metadata": {
      "needs_background": "light"
     },
     "output_type": "display_data"
    }
   ],
   "source": [
    "fig, ax = plt.subplots(figsize=(8, 4))\n",
    "\n",
    "n_bins = 22\n",
    "# plot the cumulative histogram\n",
    "n, bins, patches = ax.hist(pmf, n_bins, density=True, histtype='step',\n",
    "                           cumulative=True)\n"
   ]
  },
  {
   "cell_type": "markdown",
   "metadata": {},
   "source": [
    "## Part 2: Statistical Distributions"
   ]
  },
  {
   "cell_type": "markdown",
   "metadata": {},
   "source": [
    "### a. Descriptive Statistics"
   ]
  },
  {
   "cell_type": "markdown",
   "metadata": {},
   "source": [
    "1. `ratings` is a list of ratings for a TexMex restaurant. Compute the descriptive statistics of `ratings`."
   ]
  },
  {
   "cell_type": "code",
   "execution_count": 105,
   "metadata": {},
   "outputs": [
    {
     "name": "stdout",
     "output_type": "stream",
     "text": [
      "Mean:  7.694 \n",
      "Median:  8.0 \n",
      "Mode:  8.0 \n",
      "Standard Deviation:  2.352 \n",
      "Range:  9.0 \n",
      "Interquartile Range:  1.0\n"
     ]
    }
   ],
   "source": [
    "ratings = [1, 2, 7, 7.5, 8, 8, 8, 8, 8, 8, 8, 8, 9, 9, 9, 10, 10, 10]\n",
    "\n",
    "np_ratings = np.array(ratings)\n",
    "\n",
    "mean = round(np_ratings.mean(), 3)\n",
    "\n",
    "median = round(np.median(np_ratings, axis=0), 3)\n",
    "\n",
    "mode = stats.mode(np_ratings)[0][0]\n",
    "\n",
    "standard_deviation = round(np.std(np_ratings), 3)\n",
    "\n",
    "number_range = np.max(np_ratings, axis=0) - np.min(np_ratings, axis=0)\n",
    "interquartile_range = np.quantile(np_ratings, .75, axis=0) - np.quantile(np_ratings, .25, axis=0)\n",
    "\n",
    "\n",
    "print(\n",
    "\"Mean: \", mean, \"\\n\" \n",
    "\"Median: \", median, \"\\n\"\n",
    "\"Mode: \", mode, \"\\n\"\n",
    "\"Standard Deviation: \", standard_deviation, \"\\n\"\n",
    "\"Range: \", number_range, \"\\n\"\n",
    "\"Interquartile Range: \", interquartile_range)"
   ]
  },
  {
   "cell_type": "markdown",
   "metadata": {},
   "source": [
    "2. What measure of centrality would you use to most fairly describe the ratings and why?"
   ]
  },
  {
   "cell_type": "markdown",
   "metadata": {},
   "source": [
    "**Question 2 answer:**  \n",
    "\n",
    "The mean, median and mode are fairly similar - they are not equal, but close in value; so this implies to me the ratings may be normally distributed.\n"
   ]
  },
  {
   "cell_type": "markdown",
   "metadata": {},
   "source": [
    "### b. Continuous Distributions\n",
    "\n",
    "Say we have data on all $10,000$ checks for this TexMex restaurant and they happen to be normally distributed with $\\mu = 20$ and $\\sigma = 2$. We can visualize the data as follows: "
   ]
  },
  {
   "cell_type": "code",
   "execution_count": 106,
   "metadata": {},
   "outputs": [
    {
     "data": {
      "image/png": "[encoded data removed]",
      "text/plain": [
       "<Figure size 432x288 with 1 Axes>"
      ]
     },
     "metadata": {
      "needs_background": "light"
     },
     "output_type": "display_data"
    }
   ],
   "source": [
    "data = pickle.load(open(\"data/data10000.pkl\", \"rb\"))\n",
    "plt.title('Distribution of Check Totals')\n",
    "plt.xlabel('Amount')\n",
    "plt.ylabel('Frequency')\n",
    "plt.hist(data, bins=80)\n",
    "plt.show()"
   ]
  },
  {
   "cell_type": "markdown",
   "metadata": {},
   "source": [
    "For the following questions, you may use a [z-table](https://www.math.arizona.edu/~rsims/ma464/standardnormaltable.pdf).\n",
    "\n",
    "1. Write a function to compute z-scores of single checks.\n"
   ]
  },
  {
   "cell_type": "code",
   "execution_count": 88,
   "metadata": {},
   "outputs": [],
   "source": [
    "def z_score(check_amt):\n",
    "    \n",
    "    \"\"\"\n",
    "    check_amt = the amount for which we want to compute the z-score\n",
    "    \n",
    "    \"\"\"\n",
    "    # ideally we'd pass in mean and n, but we'll \n",
    "    # \"hard-code\" them here:\n",
    "    mean = 20\n",
    "    sigma = 2\n",
    "    N = 10000\n",
    "    \n",
    "    return (check_amt - mean) / sigma \n",
    "    "
   ]
  },
  {
   "cell_type": "markdown",
   "metadata": {},
   "source": [
    "2. Using $\\alpha = 0.05$, is my 23 dollar check significantly **greater** than the mean? Assign boolean `True` for yes, `False` for no to `ans2`.\n",
    "3. What if my check comes up to 24 dollars?"
   ]
  },
  {
   "cell_type": "code",
   "execution_count": 100,
   "metadata": {},
   "outputs": [],
   "source": [
    "# set up for question 2:  23 check\n",
    "alpha = 0.05\n",
    "\n",
    "# compute Z:\n",
    "z = z_score(23)\n",
    "\n",
    "# get p_value from stats\n",
    "p_value = stats.norm.cdf(z)\n",
    "\n",
    "ans2 = (p_value < alpha)\n",
    "\n",
    "# set up for question 3: 24 check\n",
    "z1 = z_score(24)\n",
    "p_value1 = stats.norm.cdf(z1)\n",
    "\n",
    "ans3 = (p_value1 < alpha)\n"
   ]
  },
  {
   "cell_type": "markdown",
   "metadata": {},
   "source": [
    "4. Define **confidence interval** and determine the 95% confidence interval for this population."
   ]
  },
  {
   "cell_type": "markdown",
   "metadata": {},
   "source": [
    "### Your written answer here\n",
    "**Answer:**\n",
    "The confidence interval represents the interval lying between the mean + the margin of error, and the mean - the margin of error"
   ]
  },
  {
   "cell_type": "markdown",
   "metadata": {},
   "source": [
    "5. Say we don't know how our population of checks is distributed. How does **sampling** and the **Central Limit Theorem** allow us to **make inferences on the population mean**, i.e. estimate $\\mu, \\sigma$ of the population mean?"
   ]
  },
  {
   "cell_type": "markdown",
   "metadata": {},
   "source": [
    "### Your written answer here\n",
    "**Answer:**\n",
    "The CLT allows us to take random samples, and the distribution of the means of those samples will be normally distributed.\n"
   ]
  },
  {
   "cell_type": "markdown",
   "metadata": {},
   "source": [
    "## Part 3: Statistical Testing"
   ]
  },
  {
   "cell_type": "markdown",
   "metadata": {},
   "source": [
    "### a. Hypotheses and Errors\n",
    "\n",
    "This TexMex restaurant recently introduced Queso to its menu. The restaurant owners want to know if customers ordering Queso end up spending **more or less**. Let the average amount on Queso customers' checks be $X_{Q}$.\n",
    "\n",
    "1. Set up the null and alternative hypotheses for this test."
   ]
  },
  {
   "cell_type": "markdown",
   "metadata": {},
   "source": [
    "$H_{0}:$ Mean of non-queso checks >= queso checks\n",
    "\n",
    "$H_{A}:$ $X_{Q}$ != mean of non-queso checks"
   ]
  },
  {
   "cell_type": "markdown",
   "metadata": {},
   "source": [
    "2. In this context, what does it mean to make `Type I` and `Type II` errors?"
   ]
  },
  {
   "cell_type": "markdown",
   "metadata": {},
   "source": [
    "**Answers to question 2 in markdown:**\n",
    "\n",
    "For a **Type I error** we produce a false positive, meaning we believe we found evidence within our confidence interval that the average queso check of was more or less than the non-queso average check, so we reject the null hypotehsis; but that evidence may result from pure chance and be a false positive.\n",
    "\n",
    "For a **Type II** error we produce a false negative - we found evidence OUTSIDE of our confidence interval regarding the average QUESO customer check, thinking we were NOT able to reject the null hypothesis, when in fact the null hypothesis is NOT valid!"
   ]
  },
  {
   "cell_type": "markdown",
   "metadata": {},
   "source": [
    "### b. Sample Testing"
   ]
  },
  {
   "cell_type": "markdown",
   "metadata": {},
   "source": [
    "Now assume we don't have reliable data on the population. With $\\alpha = 0.05$, we want to determine if Queso checks are significantly more **or** less than normal. We have random samples of Queso and Non-Queso checks. The samples are in the graphs below and you may assume they have equal variances."
   ]
  },
  {
   "cell_type": "code",
   "execution_count": 107,
   "metadata": {
    "scrolled": false
   },
   "outputs": [
    {
     "data": {
      "image/png": "[encoded data removed]",
      "text/plain": [
       "<Figure size 864x288 with 2 Axes>"
      ]
     },
     "metadata": {
      "needs_background": "light"
     },
     "output_type": "display_data"
    }
   ],
   "source": [
    "fig, (ax1, ax2) = plt.subplots(1, 2, figsize=(12, 4))\n",
    "\n",
    "np.random.seed(43)\n",
    "no_queso = np.random.choice(data, 1000)\n",
    "ax1.set_title('Sample of Non-Queso Check Totals')\n",
    "ax1.set_xlabel('Amount')\n",
    "ax1.set_ylabel('Frequency')\n",
    "ax1.hist(no_queso, bins=20)\n",
    "\n",
    "queso = pickle.load(open(\"data/queso.pkl\", \"rb\"))\n",
    "ax2.set_title('Sample of Queso Check Totals')\n",
    "ax2.set_xlabel('Amount')\n",
    "ax2.set_ylabel('Frequency')\n",
    "ax2.hist(queso, bins=20)\n",
    "plt.show()"
   ]
  },
  {
   "cell_type": "markdown",
   "metadata": {},
   "source": [
    "1. Run a `statistical test` on the two samples to determine whether you should reject your null hypothesis."
   ]
  },
  {
   "cell_type": "code",
   "execution_count": 120,
   "metadata": {},
   "outputs": [
    {
     "name": "stdout",
     "output_type": "stream",
     "text": [
      "1.646\n"
     ]
    }
   ],
   "source": [
    "# set up alternate hypothesis:\n",
    "# queso checks average are GREATER or LESS than NON-queso checks\n",
    "\n",
    "# sigma is .05\n",
    "# alpha is 0.05:  95% significane interval\n",
    "# calculate statistic on BOTH samples (need non_queso and queso means)\n",
    "# compare test statistic of NON-queso sample to queso sample\n",
    "# dermine the critical or p-value (find the rejection region)\n",
    "# Compare t-value with critical t-value to accept or reject the Null hypothesis.\n",
    "\n",
    "N = 1000\n",
    "no_queso_mean = round(no_queso.mean(), 3)\n",
    "queso_mean = round(queso.mean(), 3)\n",
    "sigma = round(queso.std(), 3)\n",
    "\n",
    "t = (queso_mean -  no_queso_mean)/(sigma/np.sqrt(N)) \n",
    "t_crit = np.round(stats.t.ppf(1 - 0.05, df=N-1),3)\n",
    "print(t_crit)"
   ]
  },
  {
   "cell_type": "markdown",
   "metadata": {},
   "source": [
    "**Commentary**:\n",
    "The t-critical value is NOT less than our alpha region of 0.05, so therefore we CANNOT reject the null hypothesis"
   ]
  },
  {
   "cell_type": "markdown",
   "metadata": {},
   "source": [
    "2. What are the conditions required to perform the test you chose?"
   ]
  },
  {
   "cell_type": "markdown",
   "metadata": {},
   "source": [
    "### Your written answer here\n",
    "**Answer:**\n",
    "We needed sample size, means of both samples, the sample's sigma.\n"
   ]
  },
  {
   "cell_type": "markdown",
   "metadata": {},
   "source": [
    "## Part 4: Bayesian Statistics\n",
    "### a. Bayes' Theorem"
   ]
  },
  {
   "cell_type": "markdown",
   "metadata": {},
   "source": [
    "Thomas wants to get a new puppy 🐕 🐶 🐩 \n",
    "\n",
    "\n",
    "<img src=\"https://media.giphy.com/media/rD8R00QOKwfxC/giphy.gif\" />\n",
    "\n",
    "He can choose to get his new puppy either from the pet store or the pound. The probability of him going to the pet store is $0.2$. \n",
    "\n",
    "He can choose to get either a big, medium or small puppy.\n",
    "\n",
    "If he goes to the pet store, the probability of him getting a small puppy is $0.6$. The probability of him getting a medium puppy is $0.3$, and the probability of him getting a large puppy is $0.1$.\n",
    "\n",
    "If he goes to the pound, the probability of him getting a small puppy is $0.1$. The probability of him getting a medium puppy is $0.35$, and the probability of him getting a large puppy is $0.55$.\n",
    "\n",
    "1. What is the probability of Thomas getting a small puppy?\n",
    "2. Given that he got a large puppy, what is the probability that Thomas went to the pet store?\n",
    "3. Given that Thomas got a small puppy, is it more likely that he went to the pet store or to the pound?\n",
    "4. For Part 2, what is the prior, posterior and likelihood?"
   ]
  },
  {
   "cell_type": "code",
   "execution_count": null,
   "metadata": {},
   "outputs": [],
   "source": [
    "# Thanks Rob for the help!\n",
    "\n",
    "# S = Small Puppy\n",
    "# M = Medium\n",
    "# L = Large\n",
    "# Pet = Pet Store\n",
    "# PD = Pound\n",
    "\n",
    "# P(Pet) = .2\n",
    "# P(PD) = .8\n",
    "# P(S | Pet) = .6\n",
    "# P(M | Pet) = .3\n",
    "# P(S | PD) = P(S AND PD) / P(PD)\n",
    "# P(S | PD) = .08 / .8\n",
    "# P(S | PD) = .1\n",
    "# P(L | PD) = .55\n",
    "# P(PD AND L) = .44\n",
    "# P(Pet AND L) = .02\n",
    "# P(L) = .46\n",
    "\n",
    "#P(L | Pet) - .1\n",
    "\n",
    "# P(S) = ( S AND Pet) + P(S AND PD)\n",
    "# P(S) = .12 + .08\n",
    "# P(S) = .2\n",
    "\n",
    "ans1 = .2\n",
    "ans2 = .46\n",
    "\n",
    "# P(PD | S) = .4\n",
    "# P(Pet |S) = .6\n",
    "\n",
    "ans3 = \"more likely he went to PET store!\"\n",
    "\n",
    "ans4_prior = \"Pet store OR Pound\"\n",
    "ans4_posterior = \"Likeliehood of choosing a pet given pet store or pound\"\n",
    "ans4_likelihood = \"Probability of choosing a store or the pound, given he wants a dog\""
   ]
  }
 ],
 "metadata": {
  "kernelspec": {
   "display_name": "Python 3",
   "language": "python",
   "name": "python3"
  },
  "language_info": {
   "codemirror_mode": {
    "name": "ipython",
    "version": 3
   },
   "file_extension": ".py",
   "mimetype": "text/x-python",
   "name": "python",
   "nbconvert_exporter": "python",
   "pygments_lexer": "ipython3",
   "version": "3.6.6"
  }
 },
 "nbformat": 4,
 "nbformat_minor": 2
}
